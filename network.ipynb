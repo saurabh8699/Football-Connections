{
  "nbformat": 4,
  "nbformat_minor": 0,
  "metadata": {
    "colab": {
      "provenance": []
    },
    "kernelspec": {
      "name": "python3",
      "display_name": "Python 3"
    },
    "language_info": {
      "name": "python"
    }
  },
  "cells": [
    {
      "cell_type": "code",
      "execution_count": null,
      "metadata": {
        "id": "0HYcWCLOCR-P"
      },
      "outputs": [],
      "source": [
        "import numpy as no\n",
        "import pandas as pd\n",
        "import matplotlib.pyplot as plt"
      ]
    },
    {
      "cell_type": "code",
      "source": [
        "from google.colab import drive\n",
        "drive.mount('/content/drive')"
      ],
      "metadata": {
        "colab": {
          "base_uri": "https://localhost:8080/"
        },
        "id": "OkIBym4WCiZR",
        "outputId": "c93ccfad-5258-4258-c99c-99e9d40103e3"
      },
      "execution_count": null,
      "outputs": [
        {
          "output_type": "stream",
          "name": "stdout",
          "text": [
            "Mounted at /content/drive\n"
          ]
        }
      ]
    },
    {
      "cell_type": "code",
      "source": [
        "dataset = pd.read_csv('/content/drive/MyDrive/SIN/players_21.csv')\n",
        "dataset.head(5)"
      ],
      "metadata": {
        "colab": {
          "base_uri": "https://localhost:8080/",
          "height": 473
        },
        "id": "R5hVag4UClXP",
        "outputId": "e9e48bea-8f58-4cc8-e38f-00bb345890f8"
      },
      "execution_count": null,
      "outputs": [
        {
          "output_type": "execute_result",
          "data": {
            "text/plain": [
              "   sofifa_id                                         player_url  \\\n",
              "0     158023  https://sofifa.com/player/158023/lionel-messi/...   \n",
              "1      20801  https://sofifa.com/player/20801/c-ronaldo-dos-...   \n",
              "2     200389  https://sofifa.com/player/200389/jan-oblak/210002   \n",
              "3     188545  https://sofifa.com/player/188545/robert-lewand...   \n",
              "4     190871  https://sofifa.com/player/190871/neymar-da-sil...   \n",
              "\n",
              "          short_name                            long_name  age         dob  \\\n",
              "0           L. Messi       Lionel Andrés Messi Cuccittini   33  1987-06-24   \n",
              "1  Cristiano Ronaldo  Cristiano Ronaldo dos Santos Aveiro   35  1985-02-05   \n",
              "2           J. Oblak                            Jan Oblak   27  1993-01-07   \n",
              "3     R. Lewandowski                   Robert Lewandowski   31  1988-08-21   \n",
              "4          Neymar Jr        Neymar da Silva Santos Júnior   28  1992-02-05   \n",
              "\n",
              "   height_cm  weight_kg nationality            club_name  ...   lwb   ldm  \\\n",
              "0        170         72   Argentina         FC Barcelona  ...  66+3  65+3   \n",
              "1        187         83    Portugal             Juventus  ...  65+3  61+3   \n",
              "2        188         87    Slovenia      Atlético Madrid  ...  32+3  36+3   \n",
              "3        184         80      Poland    FC Bayern München  ...  64+3  65+3   \n",
              "4        175         68      Brazil  Paris Saint-Germain  ...  67+3  62+3   \n",
              "\n",
              "    cdm   rdm   rwb    lb   lcb    cb   rcb    rb  \n",
              "0  65+3  65+3  66+3  62+3  52+3  52+3  52+3  62+3  \n",
              "1  61+3  61+3  65+3  61+3  54+3  54+3  54+3  61+3  \n",
              "2  36+3  36+3  32+3  32+3  33+3  33+3  33+3  32+3  \n",
              "3  65+3  65+3  64+3  61+3  60+3  60+3  60+3  61+3  \n",
              "4  62+3  62+3  67+3  62+3  49+3  49+3  49+3  62+3  \n",
              "\n",
              "[5 rows x 106 columns]"
            ],
            "text/html": [
              "\n",
              "  <div id=\"df-6de69c66-c4c7-4456-ac25-40059c667ffb\">\n",
              "    <div class=\"colab-df-container\">\n",
              "      <div>\n",
              "<style scoped>\n",
              "    .dataframe tbody tr th:only-of-type {\n",
              "        vertical-align: middle;\n",
              "    }\n",
              "\n",
              "    .dataframe tbody tr th {\n",
              "        vertical-align: top;\n",
              "    }\n",
              "\n",
              "    .dataframe thead th {\n",
              "        text-align: right;\n",
              "    }\n",
              "</style>\n",
              "<table border=\"1\" class=\"dataframe\">\n",
              "  <thead>\n",
              "    <tr style=\"text-align: right;\">\n",
              "      <th></th>\n",
              "      <th>sofifa_id</th>\n",
              "      <th>player_url</th>\n",
              "      <th>short_name</th>\n",
              "      <th>long_name</th>\n",
              "      <th>age</th>\n",
              "      <th>dob</th>\n",
              "      <th>height_cm</th>\n",
              "      <th>weight_kg</th>\n",
              "      <th>nationality</th>\n",
              "      <th>club_name</th>\n",
              "      <th>...</th>\n",
              "      <th>lwb</th>\n",
              "      <th>ldm</th>\n",
              "      <th>cdm</th>\n",
              "      <th>rdm</th>\n",
              "      <th>rwb</th>\n",
              "      <th>lb</th>\n",
              "      <th>lcb</th>\n",
              "      <th>cb</th>\n",
              "      <th>rcb</th>\n",
              "      <th>rb</th>\n",
              "    </tr>\n",
              "  </thead>\n",
              "  <tbody>\n",
              "    <tr>\n",
              "      <th>0</th>\n",
              "      <td>158023</td>\n",
              "      <td>https://sofifa.com/player/158023/lionel-messi/...</td>\n",
              "      <td>L. Messi</td>\n",
              "      <td>Lionel Andrés Messi Cuccittini</td>\n",
              "      <td>33</td>\n",
              "      <td>1987-06-24</td>\n",
              "      <td>170</td>\n",
              "      <td>72</td>\n",
              "      <td>Argentina</td>\n",
              "      <td>FC Barcelona</td>\n",
              "      <td>...</td>\n",
              "      <td>66+3</td>\n",
              "      <td>65+3</td>\n",
              "      <td>65+3</td>\n",
              "      <td>65+3</td>\n",
              "      <td>66+3</td>\n",
              "      <td>62+3</td>\n",
              "      <td>52+3</td>\n",
              "      <td>52+3</td>\n",
              "      <td>52+3</td>\n",
              "      <td>62+3</td>\n",
              "    </tr>\n",
              "    <tr>\n",
              "      <th>1</th>\n",
              "      <td>20801</td>\n",
              "      <td>https://sofifa.com/player/20801/c-ronaldo-dos-...</td>\n",
              "      <td>Cristiano Ronaldo</td>\n",
              "      <td>Cristiano Ronaldo dos Santos Aveiro</td>\n",
              "      <td>35</td>\n",
              "      <td>1985-02-05</td>\n",
              "      <td>187</td>\n",
              "      <td>83</td>\n",
              "      <td>Portugal</td>\n",
              "      <td>Juventus</td>\n",
              "      <td>...</td>\n",
              "      <td>65+3</td>\n",
              "      <td>61+3</td>\n",
              "      <td>61+3</td>\n",
              "      <td>61+3</td>\n",
              "      <td>65+3</td>\n",
              "      <td>61+3</td>\n",
              "      <td>54+3</td>\n",
              "      <td>54+3</td>\n",
              "      <td>54+3</td>\n",
              "      <td>61+3</td>\n",
              "    </tr>\n",
              "    <tr>\n",
              "      <th>2</th>\n",
              "      <td>200389</td>\n",
              "      <td>https://sofifa.com/player/200389/jan-oblak/210002</td>\n",
              "      <td>J. Oblak</td>\n",
              "      <td>Jan Oblak</td>\n",
              "      <td>27</td>\n",
              "      <td>1993-01-07</td>\n",
              "      <td>188</td>\n",
              "      <td>87</td>\n",
              "      <td>Slovenia</td>\n",
              "      <td>Atlético Madrid</td>\n",
              "      <td>...</td>\n",
              "      <td>32+3</td>\n",
              "      <td>36+3</td>\n",
              "      <td>36+3</td>\n",
              "      <td>36+3</td>\n",
              "      <td>32+3</td>\n",
              "      <td>32+3</td>\n",
              "      <td>33+3</td>\n",
              "      <td>33+3</td>\n",
              "      <td>33+3</td>\n",
              "      <td>32+3</td>\n",
              "    </tr>\n",
              "    <tr>\n",
              "      <th>3</th>\n",
              "      <td>188545</td>\n",
              "      <td>https://sofifa.com/player/188545/robert-lewand...</td>\n",
              "      <td>R. Lewandowski</td>\n",
              "      <td>Robert Lewandowski</td>\n",
              "      <td>31</td>\n",
              "      <td>1988-08-21</td>\n",
              "      <td>184</td>\n",
              "      <td>80</td>\n",
              "      <td>Poland</td>\n",
              "      <td>FC Bayern München</td>\n",
              "      <td>...</td>\n",
              "      <td>64+3</td>\n",
              "      <td>65+3</td>\n",
              "      <td>65+3</td>\n",
              "      <td>65+3</td>\n",
              "      <td>64+3</td>\n",
              "      <td>61+3</td>\n",
              "      <td>60+3</td>\n",
              "      <td>60+3</td>\n",
              "      <td>60+3</td>\n",
              "      <td>61+3</td>\n",
              "    </tr>\n",
              "    <tr>\n",
              "      <th>4</th>\n",
              "      <td>190871</td>\n",
              "      <td>https://sofifa.com/player/190871/neymar-da-sil...</td>\n",
              "      <td>Neymar Jr</td>\n",
              "      <td>Neymar da Silva Santos Júnior</td>\n",
              "      <td>28</td>\n",
              "      <td>1992-02-05</td>\n",
              "      <td>175</td>\n",
              "      <td>68</td>\n",
              "      <td>Brazil</td>\n",
              "      <td>Paris Saint-Germain</td>\n",
              "      <td>...</td>\n",
              "      <td>67+3</td>\n",
              "      <td>62+3</td>\n",
              "      <td>62+3</td>\n",
              "      <td>62+3</td>\n",
              "      <td>67+3</td>\n",
              "      <td>62+3</td>\n",
              "      <td>49+3</td>\n",
              "      <td>49+3</td>\n",
              "      <td>49+3</td>\n",
              "      <td>62+3</td>\n",
              "    </tr>\n",
              "  </tbody>\n",
              "</table>\n",
              "<p>5 rows × 106 columns</p>\n",
              "</div>\n",
              "      <button class=\"colab-df-convert\" onclick=\"convertToInteractive('df-6de69c66-c4c7-4456-ac25-40059c667ffb')\"\n",
              "              title=\"Convert this dataframe to an interactive table.\"\n",
              "              style=\"display:none;\">\n",
              "        \n",
              "  <svg xmlns=\"http://www.w3.org/2000/svg\" height=\"24px\"viewBox=\"0 0 24 24\"\n",
              "       width=\"24px\">\n",
              "    <path d=\"M0 0h24v24H0V0z\" fill=\"none\"/>\n",
              "    <path d=\"M18.56 5.44l.94 2.06.94-2.06 2.06-.94-2.06-.94-.94-2.06-.94 2.06-2.06.94zm-11 1L8.5 8.5l.94-2.06 2.06-.94-2.06-.94L8.5 2.5l-.94 2.06-2.06.94zm10 10l.94 2.06.94-2.06 2.06-.94-2.06-.94-.94-2.06-.94 2.06-2.06.94z\"/><path d=\"M17.41 7.96l-1.37-1.37c-.4-.4-.92-.59-1.43-.59-.52 0-1.04.2-1.43.59L10.3 9.45l-7.72 7.72c-.78.78-.78 2.05 0 2.83L4 21.41c.39.39.9.59 1.41.59.51 0 1.02-.2 1.41-.59l7.78-7.78 2.81-2.81c.8-.78.8-2.07 0-2.86zM5.41 20L4 18.59l7.72-7.72 1.47 1.35L5.41 20z\"/>\n",
              "  </svg>\n",
              "      </button>\n",
              "      \n",
              "  <style>\n",
              "    .colab-df-container {\n",
              "      display:flex;\n",
              "      flex-wrap:wrap;\n",
              "      gap: 12px;\n",
              "    }\n",
              "\n",
              "    .colab-df-convert {\n",
              "      background-color: #E8F0FE;\n",
              "      border: none;\n",
              "      border-radius: 50%;\n",
              "      cursor: pointer;\n",
              "      display: none;\n",
              "      fill: #1967D2;\n",
              "      height: 32px;\n",
              "      padding: 0 0 0 0;\n",
              "      width: 32px;\n",
              "    }\n",
              "\n",
              "    .colab-df-convert:hover {\n",
              "      background-color: #E2EBFA;\n",
              "      box-shadow: 0px 1px 2px rgba(60, 64, 67, 0.3), 0px 1px 3px 1px rgba(60, 64, 67, 0.15);\n",
              "      fill: #174EA6;\n",
              "    }\n",
              "\n",
              "    [theme=dark] .colab-df-convert {\n",
              "      background-color: #3B4455;\n",
              "      fill: #D2E3FC;\n",
              "    }\n",
              "\n",
              "    [theme=dark] .colab-df-convert:hover {\n",
              "      background-color: #434B5C;\n",
              "      box-shadow: 0px 1px 3px 1px rgba(0, 0, 0, 0.15);\n",
              "      filter: drop-shadow(0px 1px 2px rgba(0, 0, 0, 0.3));\n",
              "      fill: #FFFFFF;\n",
              "    }\n",
              "  </style>\n",
              "\n",
              "      <script>\n",
              "        const buttonEl =\n",
              "          document.querySelector('#df-6de69c66-c4c7-4456-ac25-40059c667ffb button.colab-df-convert');\n",
              "        buttonEl.style.display =\n",
              "          google.colab.kernel.accessAllowed ? 'block' : 'none';\n",
              "\n",
              "        async function convertToInteractive(key) {\n",
              "          const element = document.querySelector('#df-6de69c66-c4c7-4456-ac25-40059c667ffb');\n",
              "          const dataTable =\n",
              "            await google.colab.kernel.invokeFunction('convertToInteractive',\n",
              "                                                     [key], {});\n",
              "          if (!dataTable) return;\n",
              "\n",
              "          const docLinkHtml = 'Like what you see? Visit the ' +\n",
              "            '<a target=\"_blank\" href=https://colab.research.google.com/notebooks/data_table.ipynb>data table notebook</a>'\n",
              "            + ' to learn more about interactive tables.';\n",
              "          element.innerHTML = '';\n",
              "          dataTable['output_type'] = 'display_data';\n",
              "          await google.colab.output.renderOutput(dataTable, element);\n",
              "          const docLink = document.createElement('div');\n",
              "          docLink.innerHTML = docLinkHtml;\n",
              "          element.appendChild(docLink);\n",
              "        }\n",
              "      </script>\n",
              "    </div>\n",
              "  </div>\n",
              "  "
            ]
          },
          "metadata": {},
          "execution_count": 3
        }
      ]
    },
    {
      "cell_type": "code",
      "source": [
        "rows = len(dataset.axes[0])\n",
        "rows"
      ],
      "metadata": {
        "colab": {
          "base_uri": "https://localhost:8080/"
        },
        "id": "cIjZpd110OEg",
        "outputId": "5c2c580c-c45e-4352-e144-36366b6d583a"
      },
      "execution_count": null,
      "outputs": [
        {
          "output_type": "execute_result",
          "data": {
            "text/plain": [
              "18944"
            ]
          },
          "metadata": {},
          "execution_count": 4
        }
      ]
    },
    {
      "cell_type": "code",
      "source": [
        "subset=dataset[:1000]\n",
        "clubs=subset['club_name']\n",
        "nationality=subset['nationality']\n",
        "merge=[]\n",
        "for i in range(len(clubs)):\n",
        "  merge.append({clubs[i],nationality[i]})"
      ],
      "metadata": {
        "id": "FneYoj4WCnpl"
      },
      "execution_count": null,
      "outputs": []
    },
    {
      "cell_type": "code",
      "source": [
        "adjacency_list=[[] for i in range (1000)]\n",
        "for i in range(1000):\n",
        "  for j in range(1000):\n",
        "    if merge[i].intersection(merge[j]):\n",
        "      adjacency_list[i].append(j)"
      ],
      "metadata": {
        "id": "Q4QFL4KfC5CA"
      },
      "execution_count": null,
      "outputs": []
    },
    {
      "cell_type": "code",
      "source": [
        "id_to_name={}\n",
        "counter=0\n",
        "for i in subset['short_name']:\n",
        "  id_to_name[counter]=i\n",
        "  counter+=1\n",
        "name_to_id={}\n",
        "counter=0\n",
        "for i in subset['short_name']:\n",
        "  name_to_id[i]=counter\n",
        "  counter+=1"
      ],
      "metadata": {
        "id": "I6wl9yKLC-bv"
      },
      "execution_count": null,
      "outputs": []
    },
    {
      "cell_type": "code",
      "source": [
        "from typing import List\n",
        "from collections import deque\n",
        "import sys\n",
        " \n",
        "\n",
        "def printpath(path: List[int]) :\n",
        "     \n",
        "    size = len(path)\n",
        "    for i in range(size):\n",
        "        if(i==size-1):\n",
        "            print(id_to_name[path[i]])\n",
        "        else:\n",
        "            print(id_to_name[path[i]], end = \" ---- \")\n",
        "            print(merge[path[i]].intersection(merge[path[i+1]]),end=\" ---- \")\n",
        "         \n",
        "    print()\n",
        " \n",
        "\n",
        "def isNotVisited(x: int, path: List[int]):\n",
        " \n",
        "    size = len(path)\n",
        "    for i in range(size):\n",
        "        if (path[i] == x):\n",
        "            return 0\n",
        "             \n",
        "    return 1\n",
        " \n",
        "\n",
        "def findpaths(g: List[List[int]], src: int, dst: int, v: int):\n",
        "                   \n",
        "    q = deque()\n",
        "    gc=0\n",
        "    \n",
        "    # Path array to store the current path\n",
        "    path = []\n",
        "    path.append(src)\n",
        "    q.append(path.copy())\n",
        "     \n",
        "    while q:\n",
        "        path = q.popleft()\n",
        "        last = path[len(path) - 1]\n",
        " \n",
        "        # If last vertex is the desired destination\n",
        "        # then print the path\n",
        "        if (last == dst and gc<3):\n",
        "            printpath(path)\n",
        "            gc+=1\n",
        "            if(gc==3):\n",
        "              return\n",
        " \n",
        "        #Add neighbours at same level\n",
        "        for i in range(len(g[last])):\n",
        "            if (isNotVisited(g[last][i], path)):\n",
        "                newpath = path.copy()\n",
        "                newpath.append(g[last][i])\n",
        "                q.append(newpath)"
      ],
      "metadata": {
        "id": "VarQFNB6DKCO"
      },
      "execution_count": null,
      "outputs": []
    },
    {
      "cell_type": "code",
      "source": [
        "findpaths(adjacency_list, name_to_id['L. Messi'], name_to_id['Cristiano Ronaldo'], 1000)"
      ],
      "metadata": {
        "colab": {
          "base_uri": "https://localhost:8080/"
        },
        "id": "wsbtelHlDNf9",
        "outputId": "decdf994-053e-42a2-de0b-5167b0a17f7c"
      },
      "execution_count": null,
      "outputs": [
        {
          "output_type": "stream",
          "name": "stdout",
          "text": [
            "L. Messi ---- {'Argentina'} ---- P. Dybala ---- {'Juventus'} ---- Cristiano Ronaldo\n",
            "\n",
            "L. Messi ---- {'FC Barcelona'} ---- Nélson Semedo ---- {'Portugal'} ---- Cristiano Ronaldo\n",
            "\n",
            "L. Messi ---- {'FC Barcelona'} ---- Trincão ---- {'Portugal'} ---- Cristiano Ronaldo\n",
            "\n"
          ]
        }
      ]
    },
    {
      "cell_type": "code",
      "source": [
        "findpaths(adjacency_list, name_to_id['H. Kane'], name_to_id['R. Sterling'], 1000)"
      ],
      "metadata": {
        "colab": {
          "base_uri": "https://localhost:8080/"
        },
        "id": "oKofb2UMDRu6",
        "outputId": "38e89ada-b85e-4256-e73f-58a69fea8ee6"
      },
      "execution_count": null,
      "outputs": [
        {
          "output_type": "stream",
          "name": "stdout",
          "text": [
            "H. Kane ---- {'England'} ---- R. Sterling\n",
            "\n",
            "H. Kane ---- {'England'} ---- J. Sancho ---- {'England'} ---- R. Sterling\n",
            "\n",
            "H. Kane ---- {'England'} ---- T. Alexander-Arnold ---- {'England'} ---- R. Sterling\n",
            "\n"
          ]
        }
      ]
    },
    {
      "cell_type": "code",
      "source": [
        "import queue\n",
        "def minSeparation(edges, u, v, n):\n",
        "     \n",
        "    # Keeping track of visited nodes\n",
        "    visited = [0] * n \n",
        " \n",
        "    # Initialize distances as 0 \n",
        "    distance = [0] * n\n",
        "\n",
        "    #Path\n",
        "    path=[]\n",
        " \n",
        "    # queue to do BFS. \n",
        "    Q = queue.Queue()\n",
        "    distance[u] = 0. #Since its the source\n",
        " \n",
        "    Q.put(u)  #Enqueue\n",
        "    path.append(u)\n",
        "    visited[u] = True\n",
        "    while (not Q.empty()):\n",
        "        x = Q.get() #Dequeue\n",
        "         \n",
        "        for i in range(len(edges[x])):\n",
        "            if (visited[edges[x][i]]):  #Skip if visited already\n",
        "                continue\n",
        "            \n",
        " \n",
        "            # update distance for i \n",
        "            distance[edges[x][i]] = distance[x] + 1\n",
        "            Q.put(edges[x][i])   #Add neighbours at same level\n",
        "            visited[edges[x][i]] = 1\n",
        "    return distance[v]"
      ],
      "metadata": {
        "id": "7NqUbfmODDZ9"
      },
      "execution_count": null,
      "outputs": []
    },
    {
      "cell_type": "code",
      "source": [
        "minSeparation(adjacency_list,name_to_id['L. Messi'],name_to_id['Cristiano Ronaldo'],1000)"
      ],
      "metadata": {
        "colab": {
          "base_uri": "https://localhost:8080/"
        },
        "id": "K3In6zJrDFyE",
        "outputId": "c09c22d2-7884-400f-efc6-a3f2ca17a63d"
      },
      "execution_count": null,
      "outputs": [
        {
          "output_type": "execute_result",
          "data": {
            "text/plain": [
              "2.0"
            ]
          },
          "metadata": {},
          "execution_count": 13
        }
      ]
    },
    {
      "cell_type": "code",
      "source": [
        "import numpy as np\n",
        "import networkx as nx\n",
        "from networkx.algorithms import approximation\n",
        "Connection_Graph=np.zeros((subset.shape[0],subset.shape[0]))\n",
        "for i in range(Connection_Graph.shape[0]):\n",
        "  for j in range(Connection_Graph.shape[0]):\n",
        "    if merge[i].intersection(merge[j]):\n",
        "      Connection_Graph[i][j]=1"
      ],
      "metadata": {
        "id": "mWkLNVIXn23G"
      },
      "execution_count": null,
      "outputs": []
    },
    {
      "cell_type": "code",
      "source": [
        "npmatrix=np.array(Connection_Graph)\n",
        "G = nx.from_numpy_array(npmatrix)\n",
        "G.number_of_edges()"
      ],
      "metadata": {
        "colab": {
          "base_uri": "https://localhost:8080/"
        },
        "id": "j1Iu1ZC1o3VL",
        "outputId": "2f8da507-6feb-440a-fd4b-7ee77acf8438"
      },
      "execution_count": null,
      "outputs": [
        {
          "output_type": "execute_result",
          "data": {
            "text/plain": [
              "35498"
            ]
          },
          "metadata": {},
          "execution_count": 15
        }
      ]
    },
    {
      "cell_type": "code",
      "source": [
        "#Degree centrality\n",
        "dc=nx.algorithms.centrality.degree_centrality(G)\n",
        "max=dc[0]\n",
        "maxindex=0\n",
        "for i in dc:\n",
        "  if dc[i]>max:\n",
        "    max=dc[i]\n",
        "    maxindex=i\n",
        "print(id_to_name[maxindex])"
      ],
      "metadata": {
        "colab": {
          "base_uri": "https://localhost:8080/"
        },
        "id": "3sDzIoPzo51r",
        "outputId": "98b458f2-4188-45d1-8dc8-ed805bcdbb70"
      },
      "execution_count": null,
      "outputs": [
        {
          "output_type": "stream",
          "name": "stdout",
          "text": [
            "Thiago\n"
          ]
        }
      ]
    },
    {
      "cell_type": "code",
      "source": [
        "#Closeness Centrality\n",
        "cc=nx.algorithms.centrality.closeness_centrality(G)\n",
        "maxcc=0\n",
        "maxindexcc=0\n",
        "for i in cc:\n",
        "  if cc[i]>maxcc:\n",
        "    maxcc=cc[i]\n",
        "    maxindexcc=i\n",
        "print(id_to_name[maxindexcc])"
      ],
      "metadata": {
        "colab": {
          "base_uri": "https://localhost:8080/"
        },
        "id": "7URWLLyrpxAm",
        "outputId": "8b8ccb76-8fd0-4f66-a59a-1b96e4a855bf"
      },
      "execution_count": null,
      "outputs": [
        {
          "output_type": "stream",
          "name": "stdout",
          "text": [
            "Rodri\n"
          ]
        }
      ]
    },
    {
      "cell_type": "code",
      "source": [
        "#Betweenness Centrality\n",
        "bc=nx.algorithms.centrality.betweenness_centrality(G)\n",
        "maxbc=bc[0]\n",
        "maxindexbc=0\n",
        "for i in bc:\n",
        "  if bc[i]>maxbc:\n",
        "    maxcc=bc[i]\n",
        "    maxindexbc=i\n",
        "print(id_to_name[maxindexbc])"
      ],
      "metadata": {
        "colab": {
          "base_uri": "https://localhost:8080/"
        },
        "id": "2tnw6CkEpzv7",
        "outputId": "2e0198fd-1ca4-48e0-ef71-4f43ad220dc1"
      },
      "execution_count": null,
      "outputs": [
        {
          "output_type": "stream",
          "name": "stdout",
          "text": [
            "E. Palacios\n"
          ]
        }
      ]
    },
    {
      "cell_type": "code",
      "source": [
        "#Optimised DOS\n",
        "import time\n",
        "t1=time.time()\n",
        "ds=nx.algorithms.shortest_paths.generic.average_shortest_path_length(G)\n",
        "print(\"The degree of separation on average between any two footballers is \"+str(ds))\n",
        "print(\"The time taken was \"+str(time.time()-t1))"
      ],
      "metadata": {
        "colab": {
          "base_uri": "https://localhost:8080/"
        },
        "id": "uNnsW0t_p1jB",
        "outputId": "e1b15dd0-34e9-47f6-82eb-3a2070a39ee6"
      },
      "execution_count": null,
      "outputs": [
        {
          "output_type": "stream",
          "name": "stdout",
          "text": [
            "The degree of separation on average between any two footballers is 2.502282282282282\n",
            "The time taken was 3.3825364112854004\n"
          ]
        }
      ]
    },
    {
      "cell_type": "markdown",
      "source": [
        "Louvain method, which is a popular community detection algorithm\n"
      ],
      "metadata": {
        "id": "Nw1wjfMsuNz1"
      }
    },
    {
      "cell_type": "code",
      "source": [
        "!pip install python-louvain"
      ],
      "metadata": {
        "colab": {
          "base_uri": "https://localhost:8080/"
        },
        "id": "J9n9MEfkxn2b",
        "outputId": "9747f400-947f-4f99-9bdf-27d59ee413fc"
      },
      "execution_count": null,
      "outputs": [
        {
          "output_type": "stream",
          "name": "stdout",
          "text": [
            "Looking in indexes: https://pypi.org/simple, https://us-python.pkg.dev/colab-wheels/public/simple/\n",
            "Requirement already satisfied: python-louvain in /usr/local/lib/python3.9/dist-packages (0.16)\n",
            "Requirement already satisfied: networkx in /usr/local/lib/python3.9/dist-packages (from python-louvain) (3.0)\n",
            "Requirement already satisfied: numpy in /usr/local/lib/python3.9/dist-packages (from python-louvain) (1.22.4)\n"
          ]
        }
      ]
    },
    {
      "cell_type": "code",
      "source": [
        "import csv\n",
        "\n",
        "edges = []\n",
        "\n",
        "# Iterate over the rows in the adjacency list\n",
        "for row in adjacency_list:\n",
        "    # Iterate over the columns in the row\n",
        "    for col in row[1:]:\n",
        "        # Append the edge to the edges list\n",
        "        edges.append([row[0], col])\n",
        "\n",
        "# Write the edges to a CSV file\n",
        "with open('edge_list.csv', 'w', newline='') as csvfile:\n",
        "    writer = csv.writer(csvfile)\n",
        "    writer.writerow(['Source', 'Target'])\n",
        "    writer.writerows(edges)"
      ],
      "metadata": {
        "id": "G5cVtttvvtJg"
      },
      "execution_count": null,
      "outputs": []
    },
    {
      "cell_type": "code",
      "source": [
        "edge_list = pd.read_csv('/content/edge_list.csv')\n",
        "\n",
        "# Create an empty graph\n",
        "G = nx.Graph()\n",
        "\n",
        "# Add the edges to the graph\n",
        "for i, row in edge_list.iterrows():\n",
        "    G.add_edge(row['Source'], row['Target'])"
      ],
      "metadata": {
        "id": "d4egj1pZxmwb"
      },
      "execution_count": null,
      "outputs": []
    },
    {
      "cell_type": "code",
      "source": [
        "import community.community_louvain as community_louvain\n",
        "\n",
        "# Perform community detection using the Louvain method\n",
        "partition = community_louvain.best_partition(G)\n",
        "\n",
        "# Print the number of communities found\n",
        "num_communities = len(set(partition.values()))\n",
        "print(f\"Number of communities: {num_communities}\")"
      ],
      "metadata": {
        "colab": {
          "base_uri": "https://localhost:8080/"
        },
        "id": "shJDjC-_xwS3",
        "outputId": "70a56440-957d-43f4-ba2e-317c4f353bf5"
      },
      "execution_count": null,
      "outputs": [
        {
          "output_type": "stream",
          "name": "stdout",
          "text": [
            "Number of communities: 8\n"
          ]
        }
      ]
    },
    {
      "cell_type": "code",
      "source": [
        "import matplotlib.pyplot as plt\n",
        "\n",
        "# Create a dictionary of node positions\n",
        "pos = nx.spring_layout(G)\n",
        "\n",
        "# Create a list of community assignments for each node\n",
        "node_colors = [partition[n] for n in G.nodes()]\n",
        "\n",
        "# Draw the nodes in the graph, colored by community\n",
        "nx.draw_networkx_nodes(G, pos, node_color=node_colors, cmap=plt.cm.tab20)\n",
        "\n",
        "# Draw the edges in the graph\n",
        "nx.draw_networkx_edges(G, pos, alpha=0.2)\n",
        "\n",
        "# Show the plot\n",
        "plt.show()"
      ],
      "metadata": {
        "colab": {
          "base_uri": "https://localhost:8080/",
          "height": 406
        },
        "id": "sx3_sfF2zxbL",
        "outputId": "0b5e54ab-6361-4bbd-9117-e28ab8ffe625"
      },
      "execution_count": null,
      "outputs": [
        {
          "output_type": "display_data",
          "data": {
            "text/plain": [
              "<Figure size 640x480 with 1 Axes>"
            ],
            "image/png": "[encoded data removed]"
          },
          "metadata": {}
        }
      ]
    },
    {
      "cell_type": "code",
      "source": [
        "def find_clusters(edge_list):\n",
        "    clusters = []\n",
        "    visited = set()\n",
        "\n",
        "    def dfs(node, cluster):\n",
        "        visited.add(node)\n",
        "        cluster.add(node)\n",
        "        for neighbor in edge_list[node]:\n",
        "            if neighbor not in visited:\n",
        "                dfs(neighbor, cluster)\n",
        "\n",
        "    for node in range(len(edge_list)):\n",
        "        if node not in visited:\n",
        "            cluster = set()\n",
        "            dfs(node, cluster)\n",
        "            clusters.append(cluster)\n",
        "\n",
        "    return clusters"
      ],
      "metadata": {
        "id": "EXl6coWq6erE"
      },
      "execution_count": null,
      "outputs": []
    },
    {
      "cell_type": "code",
      "source": [
        "clusters = find_clusters(adjacency_list)\n",
        "print(clusters)"
      ],
      "metadata": {
        "colab": {
          "base_uri": "https://localhost:8080/"
        },
        "id": "oPX2NRTppiue",
        "outputId": "f61870bb-a365-4ea9-9eda-eeb070dd255c"
      },
      "execution_count": null,
      "outputs": [
        {
          "output_type": "stream",
          "name": "stdout",
          "text": [
            "[{0, 1, 2, 3, 4, 5, 6, 7, 8, 9, 10, 11, 12, 13, 14, 15, 16, 17, 18, 19, 20, 21, 22, 23, 24, 25, 26, 27, 28, 29, 30, 31, 32, 33, 34, 35, 36, 37, 38, 39, 40, 41, 42, 43, 44, 45, 46, 47, 48, 49, 50, 51, 52, 53, 54, 55, 56, 57, 58, 59, 60, 61, 62, 63, 64, 65, 66, 67, 68, 69, 70, 71, 72, 73, 74, 75, 76, 77, 78, 79, 80, 81, 82, 83, 84, 85, 86, 87, 88, 89, 90, 91, 92, 93, 94, 95, 96, 97, 98, 99, 100, 101, 102, 103, 104, 105, 106, 107, 108, 109, 110, 111, 112, 113, 114, 115, 116, 117, 118, 119, 120, 121, 122, 123, 124, 125, 126, 127, 128, 129, 130, 131, 132, 133, 134, 135, 136, 137, 138, 139, 140, 141, 142, 143, 144, 145, 146, 147, 148, 149, 150, 151, 152, 153, 154, 155, 156, 157, 158, 159, 160, 161, 162, 163, 164, 165, 166, 167, 168, 169, 170, 171, 172, 173, 174, 175, 176, 177, 178, 179, 180, 181, 182, 183, 184, 185, 186, 187, 188, 189, 190, 191, 192, 193, 194, 195, 196, 197, 198, 199, 200, 201, 202, 203, 204, 205, 206, 207, 208, 209, 210, 211, 212, 213, 214, 215, 216, 217, 218, 219, 220, 221, 222, 223, 224, 225, 226, 227, 228, 229, 230, 231, 232, 233, 234, 235, 236, 237, 238, 239, 240, 241, 242, 243, 244, 245, 246, 247, 248, 249, 250, 251, 252, 253, 254, 255, 256, 257, 258, 259, 260, 261, 262, 263, 264, 265, 266, 267, 268, 269, 270, 271, 272, 273, 274, 275, 276, 277, 278, 279, 280, 281, 282, 283, 284, 285, 286, 287, 288, 289, 290, 291, 292, 293, 294, 295, 296, 297, 298, 299, 300, 301, 302, 303, 304, 305, 306, 307, 308, 309, 310, 311, 312, 313, 314, 315, 316, 317, 318, 319, 320, 321, 322, 323, 324, 325, 326, 327, 328, 329, 330, 331, 332, 333, 334, 335, 336, 337, 338, 339, 340, 341, 342, 343, 344, 345, 346, 347, 348, 349, 350, 351, 352, 353, 354, 355, 356, 357, 358, 359, 360, 361, 362, 363, 364, 365, 366, 367, 368, 369, 370, 371, 372, 373, 374, 375, 376, 377, 378, 379, 380, 381, 382, 383, 384, 385, 386, 387, 388, 389, 390, 391, 392, 393, 394, 395, 396, 397, 398, 399, 400, 401, 402, 403, 404, 405, 406, 407, 408, 409, 410, 411, 412, 413, 414, 415, 416, 417, 418, 419, 420, 421, 422, 423, 424, 425, 426, 427, 428, 429, 430, 431, 432, 433, 434, 435, 436, 437, 438, 439, 440, 441, 442, 443, 444, 445, 446, 447, 448, 449, 450, 451, 452, 453, 454, 455, 456, 457, 458, 459, 460, 461, 462, 463, 464, 465, 466, 467, 468, 469, 470, 471, 472, 473, 474, 475, 476, 477, 478, 479, 480, 481, 482, 483, 484, 485, 486, 487, 488, 489, 490, 491, 492, 493, 494, 495, 496, 497, 498, 499, 500, 501, 502, 503, 504, 505, 506, 507, 508, 509, 510, 511, 512, 513, 514, 515, 516, 517, 518, 519, 520, 521, 522, 523, 524, 525, 526, 527, 528, 529, 530, 531, 532, 533, 534, 535, 536, 537, 538, 539, 540, 541, 542, 543, 544, 545, 546, 547, 548, 549, 550, 551, 552, 553, 554, 555, 556, 557, 558, 559, 560, 561, 562, 563, 564, 565, 566, 567, 568, 569, 570, 571, 572, 573, 574, 575, 576, 577, 578, 579, 580, 581, 582, 583, 584, 585, 586, 587, 588, 589, 590, 591, 592, 593, 594, 595, 596, 597, 598, 599, 600, 601, 602, 603, 604, 605, 606, 607, 608, 609, 610, 611, 612, 613, 614, 615, 616, 617, 618, 619, 620, 621, 622, 623, 624, 625, 626, 627, 628, 629, 630, 631, 632, 633, 634, 635, 636, 637, 638, 639, 640, 641, 642, 643, 644, 645, 646, 647, 648, 649, 650, 651, 652, 653, 654, 655, 656, 657, 658, 659, 660, 661, 662, 663, 664, 665, 666, 667, 668, 669, 670, 671, 672, 673, 674, 675, 676, 677, 678, 679, 680, 681, 682, 683, 684, 685, 686, 687, 688, 689, 690, 691, 692, 693, 694, 695, 696, 697, 698, 699, 700, 701, 702, 703, 704, 705, 706, 707, 708, 709, 710, 711, 712, 713, 714, 715, 716, 717, 718, 719, 720, 721, 722, 723, 724, 725, 726, 727, 728, 729, 730, 731, 732, 733, 734, 735, 736, 737, 738, 739, 740, 741, 742, 743, 744, 745, 746, 747, 748, 749, 750, 751, 752, 753, 754, 755, 756, 757, 758, 759, 760, 761, 762, 763, 764, 765, 766, 767, 768, 769, 770, 771, 772, 773, 774, 775, 776, 777, 778, 779, 780, 781, 782, 783, 784, 785, 786, 787, 788, 789, 790, 791, 792, 793, 794, 795, 796, 797, 798, 799, 800, 801, 802, 803, 804, 805, 806, 807, 808, 809, 810, 811, 812, 813, 814, 815, 816, 817, 818, 819, 820, 821, 822, 823, 824, 825, 826, 827, 828, 829, 830, 831, 832, 833, 834, 835, 836, 837, 838, 839, 840, 841, 842, 843, 844, 845, 846, 847, 848, 849, 850, 851, 852, 853, 854, 855, 856, 857, 858, 859, 860, 861, 862, 863, 864, 865, 866, 867, 868, 869, 870, 871, 872, 873, 874, 875, 876, 877, 878, 879, 880, 881, 882, 883, 884, 885, 886, 887, 888, 889, 890, 891, 892, 893, 894, 895, 896, 897, 898, 899, 900, 901, 902, 903, 904, 905, 906, 907, 908, 909, 910, 911, 912, 913, 914, 915, 916, 917, 918, 919, 920, 921, 922, 923, 924, 925, 926, 927, 928, 929, 930, 931, 932, 933, 934, 935, 936, 937, 938, 939, 940, 941, 942, 943, 944, 945, 946, 947, 948, 949, 950, 951, 952, 953, 954, 955, 956, 957, 958, 959, 960, 961, 962, 963, 964, 965, 966, 967, 968, 969, 970, 971, 972, 973, 974, 975, 976, 977, 978, 979, 980, 981, 982, 983, 984, 985, 986, 987, 988, 989, 990, 991, 992, 993, 994, 995, 996, 997, 998, 999}]\n"
          ]
        }
      ]
    },
    {
      "cell_type": "code",
      "source": [
        "class UnionFind:\n",
        "    def __init__(self, n):\n",
        "        self.parent = list(range(n))\n",
        "        self.rank = [0] * n\n",
        "\n",
        "    def find(self, x):\n",
        "        if self.parent[x] != x:\n",
        "            self.parent[x] = self.find(self.parent[x])\n",
        "        return self.parent[x]\n",
        "\n",
        "    def union(self, x, y):\n",
        "        xroot, yroot = self.find(x), self.find(y)\n",
        "        if xroot == yroot:\n",
        "            return\n",
        "        if self.rank[xroot] < self.rank[yroot]:\n",
        "            xroot, yroot = yroot, xroot\n",
        "        self.parent[yroot] = xroot\n",
        "        if self.rank[xroot] == self.rank[yroot]:\n",
        "            self.rank[xroot] += 1\n",
        "\n",
        "def find_clusters(edge_list):\n",
        "    n = len(edge_list)\n",
        "    uf = UnionFind(n)\n",
        "    for i in range(n):\n",
        "        for j in edge_list[i]:\n",
        "            uf.union(i, j)\n",
        "    clusters = {}\n",
        "    for i in range(n):\n",
        "        root = uf.find(i)\n",
        "        if root not in clusters:\n",
        "            clusters[root] = set()\n",
        "        clusters[root].add(i)\n",
        "    return list(clusters.values())"
      ],
      "metadata": {
        "id": "McQKYPtgqcJk"
      },
      "execution_count": null,
      "outputs": []
    },
    {
      "cell_type": "code",
      "source": [
        "clusters = find_clusters(adjacency_list)\n",
        "print(clusters)"
      ],
      "metadata": {
        "colab": {
          "base_uri": "https://localhost:8080/"
        },
        "id": "EfpI_rtIqdg7",
        "outputId": "23daf322-3d42-4964-e86d-38213f200811"
      },
      "execution_count": null,
      "outputs": [
        {
          "output_type": "stream",
          "name": "stdout",
          "text": [
            "[{0, 1, 2, 3, 4, 5, 6, 7, 8, 9, 10, 11, 12, 13, 14, 15, 16, 17, 18, 19, 20, 21, 22, 23, 24, 25, 26, 27, 28, 29, 30, 31, 32, 33, 34, 35, 36, 37, 38, 39, 40, 41, 42, 43, 44, 45, 46, 47, 48, 49, 50, 51, 52, 53, 54, 55, 56, 57, 58, 59, 60, 61, 62, 63, 64, 65, 66, 67, 68, 69, 70, 71, 72, 73, 74, 75, 76, 77, 78, 79, 80, 81, 82, 83, 84, 85, 86, 87, 88, 89, 90, 91, 92, 93, 94, 95, 96, 97, 98, 99, 100, 101, 102, 103, 104, 105, 106, 107, 108, 109, 110, 111, 112, 113, 114, 115, 116, 117, 118, 119, 120, 121, 122, 123, 124, 125, 126, 127, 128, 129, 130, 131, 132, 133, 134, 135, 136, 137, 138, 139, 140, 141, 142, 143, 144, 145, 146, 147, 148, 149, 150, 151, 152, 153, 154, 155, 156, 157, 158, 159, 160, 161, 162, 163, 164, 165, 166, 167, 168, 169, 170, 171, 172, 173, 174, 175, 176, 177, 178, 179, 180, 181, 182, 183, 184, 185, 186, 187, 188, 189, 190, 191, 192, 193, 194, 195, 196, 197, 198, 199, 200, 201, 202, 203, 204, 205, 206, 207, 208, 209, 210, 211, 212, 213, 214, 215, 216, 217, 218, 219, 220, 221, 222, 223, 224, 225, 226, 227, 228, 229, 230, 231, 232, 233, 234, 235, 236, 237, 238, 239, 240, 241, 242, 243, 244, 245, 246, 247, 248, 249, 250, 251, 252, 253, 254, 255, 256, 257, 258, 259, 260, 261, 262, 263, 264, 265, 266, 267, 268, 269, 270, 271, 272, 273, 274, 275, 276, 277, 278, 279, 280, 281, 282, 283, 284, 285, 286, 287, 288, 289, 290, 291, 292, 293, 294, 295, 296, 297, 298, 299, 300, 301, 302, 303, 304, 305, 306, 307, 308, 309, 310, 311, 312, 313, 314, 315, 316, 317, 318, 319, 320, 321, 322, 323, 324, 325, 326, 327, 328, 329, 330, 331, 332, 333, 334, 335, 336, 337, 338, 339, 340, 341, 342, 343, 344, 345, 346, 347, 348, 349, 350, 351, 352, 353, 354, 355, 356, 357, 358, 359, 360, 361, 362, 363, 364, 365, 366, 367, 368, 369, 370, 371, 372, 373, 374, 375, 376, 377, 378, 379, 380, 381, 382, 383, 384, 385, 386, 387, 388, 389, 390, 391, 392, 393, 394, 395, 396, 397, 398, 399, 400, 401, 402, 403, 404, 405, 406, 407, 408, 409, 410, 411, 412, 413, 414, 415, 416, 417, 418, 419, 420, 421, 422, 423, 424, 425, 426, 427, 428, 429, 430, 431, 432, 433, 434, 435, 436, 437, 438, 439, 440, 441, 442, 443, 444, 445, 446, 447, 448, 449, 450, 451, 452, 453, 454, 455, 456, 457, 458, 459, 460, 461, 462, 463, 464, 465, 466, 467, 468, 469, 470, 471, 472, 473, 474, 475, 476, 477, 478, 479, 480, 481, 482, 483, 484, 485, 486, 487, 488, 489, 490, 491, 492, 493, 494, 495, 496, 497, 498, 499, 500, 501, 502, 503, 504, 505, 506, 507, 508, 509, 510, 511, 512, 513, 514, 515, 516, 517, 518, 519, 520, 521, 522, 523, 524, 525, 526, 527, 528, 529, 530, 531, 532, 533, 534, 535, 536, 537, 538, 539, 540, 541, 542, 543, 544, 545, 546, 547, 548, 549, 550, 551, 552, 553, 554, 555, 556, 557, 558, 559, 560, 561, 562, 563, 564, 565, 566, 567, 568, 569, 570, 571, 572, 573, 574, 575, 576, 577, 578, 579, 580, 581, 582, 583, 584, 585, 586, 587, 588, 589, 590, 591, 592, 593, 594, 595, 596, 597, 598, 599, 600, 601, 602, 603, 604, 605, 606, 607, 608, 609, 610, 611, 612, 613, 614, 615, 616, 617, 618, 619, 620, 621, 622, 623, 624, 625, 626, 627, 628, 629, 630, 631, 632, 633, 634, 635, 636, 637, 638, 639, 640, 641, 642, 643, 644, 645, 646, 647, 648, 649, 650, 651, 652, 653, 654, 655, 656, 657, 658, 659, 660, 661, 662, 663, 664, 665, 666, 667, 668, 669, 670, 671, 672, 673, 674, 675, 676, 677, 678, 679, 680, 681, 682, 683, 684, 685, 686, 687, 688, 689, 690, 691, 692, 693, 694, 695, 696, 697, 698, 699, 700, 701, 702, 703, 704, 705, 706, 707, 708, 709, 710, 711, 712, 713, 714, 715, 716, 717, 718, 719, 720, 721, 722, 723, 724, 725, 726, 727, 728, 729, 730, 731, 732, 733, 734, 735, 736, 737, 738, 739, 740, 741, 742, 743, 744, 745, 746, 747, 748, 749, 750, 751, 752, 753, 754, 755, 756, 757, 758, 759, 760, 761, 762, 763, 764, 765, 766, 767, 768, 769, 770, 771, 772, 773, 774, 775, 776, 777, 778, 779, 780, 781, 782, 783, 784, 785, 786, 787, 788, 789, 790, 791, 792, 793, 794, 795, 796, 797, 798, 799, 800, 801, 802, 803, 804, 805, 806, 807, 808, 809, 810, 811, 812, 813, 814, 815, 816, 817, 818, 819, 820, 821, 822, 823, 824, 825, 826, 827, 828, 829, 830, 831, 832, 833, 834, 835, 836, 837, 838, 839, 840, 841, 842, 843, 844, 845, 846, 847, 848, 849, 850, 851, 852, 853, 854, 855, 856, 857, 858, 859, 860, 861, 862, 863, 864, 865, 866, 867, 868, 869, 870, 871, 872, 873, 874, 875, 876, 877, 878, 879, 880, 881, 882, 883, 884, 885, 886, 887, 888, 889, 890, 891, 892, 893, 894, 895, 896, 897, 898, 899, 900, 901, 902, 903, 904, 905, 906, 907, 908, 909, 910, 911, 912, 913, 914, 915, 916, 917, 918, 919, 920, 921, 922, 923, 924, 925, 926, 927, 928, 929, 930, 931, 932, 933, 934, 935, 936, 937, 938, 939, 940, 941, 942, 943, 944, 945, 946, 947, 948, 949, 950, 951, 952, 953, 954, 955, 956, 957, 958, 959, 960, 961, 962, 963, 964, 965, 966, 967, 968, 969, 970, 971, 972, 973, 974, 975, 976, 977, 978, 979, 980, 981, 982, 983, 984, 985, 986, 987, 988, 989, 990, 991, 992, 993, 994, 995, 996, 997, 998, 999}]\n"
          ]
        }
      ]
    },
    {
      "cell_type": "markdown",
      "source": [
        "Nationality Diversity"
      ],
      "metadata": {
        "id": "N6kyisDfSW03"
      }
    },
    {
      "cell_type": "code",
      "source": [
        "club_groups = dataset.groupby('club_name')"
      ],
      "metadata": {
        "id": "TPXyDYTvSUle"
      },
      "execution_count": null,
      "outputs": []
    },
    {
      "cell_type": "code",
      "source": [
        "def diversity(name):\n",
        "    for club_name, group in club_groups:\n",
        "        if name == club_name:\n",
        "            nationality_counts = group['nationality'].value_counts()\n",
        "            nationality_diversity = nationality_counts.div(nationality_counts.sum())\n",
        "            nationality_diversity.plot(kind='bar', title=club_name)\n",
        "            print(club_name,\"\\n\",nationality_diversity)\n",
        "            print(\"\\n\")\n",
        "            plt.show()\n",
        "            break"
      ],
      "metadata": {
        "id": "vyTf3R-sSgr-"
      },
      "execution_count": null,
      "outputs": []
    },
    {
      "cell_type": "code",
      "source": [
        "diversity('FC Barcelona')"
      ],
      "metadata": {
        "colab": {
          "base_uri": "https://localhost:8080/",
          "height": 854
        },
        "id": "i5gtrNoNYrIx",
        "outputId": "ac251097-e287-410f-8e73-46c91b7fd791"
      },
      "execution_count": null,
      "outputs": [
        {
          "output_type": "stream",
          "name": "stdout",
          "text": [
            "FC Barcelona \n",
            " Spain                 0.303030\n",
            "Brazil                0.181818\n",
            "France                0.151515\n",
            "Uruguay               0.060606\n",
            "Netherlands           0.060606\n",
            "Portugal              0.060606\n",
            "Argentina             0.030303\n",
            "Germany               0.030303\n",
            "Bosnia Herzegovina    0.030303\n",
            "Denmark               0.030303\n",
            "Japan                 0.030303\n",
            "Albania               0.030303\n",
            "Name: nationality, dtype: float64\n",
            "\n",
            "\n"
          ]
        },
        {
          "output_type": "display_data",
          "data": {
            "text/plain": [
              "<Figure size 640x480 with 1 Axes>"
            ],
            "image/png": "[encoded data removed]"
          },
          "metadata": {}
        }
      ]
    },
    {
      "cell_type": "code",
      "source": [
        "diversity('Manchester City')"
      ],
      "metadata": {
        "colab": {
          "base_uri": "https://localhost:8080/",
          "height": 827
        },
        "id": "ZceIoY5Sbt-9",
        "outputId": "1c8ddaa9-c5ca-4276-bf42-d431d33dbcf8"
      },
      "execution_count": null,
      "outputs": [
        {
          "output_type": "stream",
          "name": "stdout",
          "text": [
            "Manchester City \n",
            " England          0.303030\n",
            "Spain            0.151515\n",
            "Brazil           0.090909\n",
            "France           0.090909\n",
            "Argentina        0.060606\n",
            "Portugal         0.060606\n",
            "Netherlands      0.060606\n",
            "Belgium          0.030303\n",
            "Algeria          0.030303\n",
            "Germany          0.030303\n",
            "Ukraine          0.030303\n",
            "United States    0.030303\n",
            "Wales            0.030303\n",
            "Name: nationality, dtype: float64\n",
            "\n",
            "\n"
          ]
        },
        {
          "output_type": "display_data",
          "data": {
            "text/plain": [
              "<Figure size 640x480 with 1 Axes>"
            ],
            "image/png": "[encoded data removed]"
          },
          "metadata": {}
        }
      ]
    }
  ]
}