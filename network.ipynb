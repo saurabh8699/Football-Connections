{
  "nbformat": 4,
  "nbformat_minor": 0,
  "metadata": {
    "colab": {
      "provenance": []
    },
    "kernelspec": {
      "name": "python3",
      "display_name": "Python 3"
    },
    "language_info": {
      "name": "python"
    }
  },
  "cells": [
    {
      "cell_type": "code",
      "execution_count": 1,
      "metadata": {
        "id": "fVN4ucdHK0LW"
      },
      "outputs": [],
      "source": [
        "import numpy as no\n",
        "import pandas as pd\n",
        "import matplotlib.pyplot as plt"
      ]
    },
    {
      "cell_type": "code",
      "source": [
        "from google.colab import drive\n",
        "drive.mount('/content/drive')"
      ],
      "metadata": {
        "colab": {
          "base_uri": "https://localhost:8080/"
        },
        "id": "eeNXRB9DK7TP",
        "outputId": "4f96dd03-89da-4d2f-a07a-7dd10bd307ec"
      },
      "execution_count": 2,
      "outputs": [
        {
          "output_type": "stream",
          "name": "stdout",
          "text": [
            "Mounted at /content/drive\n"
          ]
        }
      ]
    },
    {
      "cell_type": "code",
      "source": [
        "dataset = pd.read_csv('/content/drive/MyDrive/SIN/players_21.csv')"
      ],
      "metadata": {
        "id": "N3nTZBdlK_9m"
      },
      "execution_count": 11,
      "outputs": []
    },
    {
      "cell_type": "code",
      "source": [
        "subset=dataset[:1000]\n",
        "clubs=subset['club_name']\n",
        "nationality=subset['nationality']\n",
        "merge=[]\n",
        "for i in range(len(clubs)):\n",
        "  merge.append({clubs[i],nationality[i]})"
      ],
      "metadata": {
        "id": "CcPOq5qOLE6i"
      },
      "execution_count": 5,
      "outputs": []
    },
    {
      "cell_type": "code",
      "source": [
        "adjacency_list=[[] for i in range (1000)]\n",
        "for i in range(1000):\n",
        "  for j in range(1000):\n",
        "    if merge[i].intersection(merge[j]):\n",
        "      adjacency_list[i].append(j)"
      ],
      "metadata": {
        "id": "c_B0VoJoLHKJ"
      },
      "execution_count": 6,
      "outputs": []
    },
    {
      "cell_type": "code",
      "source": [
        "id_to_name={}\n",
        "counter=0\n",
        "for i in subset['short_name']:\n",
        "  id_to_name[counter]=i\n",
        "  counter+=1\n",
        "name_to_id={}\n",
        "counter=0\n",
        "for i in subset['short_name']:\n",
        "  name_to_id[i]=counter\n",
        "  counter+=1"
      ],
      "metadata": {
        "id": "RGqWgy4zLLJa"
      },
      "execution_count": 8,
      "outputs": []
    },
    {
      "cell_type": "code",
      "source": [
        "from typing import List\n",
        "from collections import deque\n",
        "import sys\n",
        " \n",
        "\n",
        "def printpath(path: List[int]) :\n",
        "     \n",
        "    size = len(path)\n",
        "    for i in range(size):\n",
        "        if(i==size-1):\n",
        "            print(id_to_name[path[i]])\n",
        "        else:\n",
        "            print(id_to_name[path[i]], end = \" ---- \")\n",
        "            print(merge[path[i]].intersection(merge[path[i+1]]),end=\" ---- \")\n",
        "         \n",
        "    print()\n",
        " \n",
        "\n",
        "def isNotVisited(x: int, path: List[int]):\n",
        " \n",
        "    size = len(path)\n",
        "    for i in range(size):\n",
        "        if (path[i] == x):\n",
        "            return 0\n",
        "             \n",
        "    return 1\n",
        " \n",
        "\n",
        "def findpaths(g: List[List[int]], src: int, dst: int, v: int):\n",
        "                   \n",
        "    q = deque()\n",
        "    gc=0\n",
        "    \n",
        "    # Path array to store the current path\n",
        "    path = []\n",
        "    path.append(src)\n",
        "    q.append(path.copy())\n",
        "     \n",
        "    while q:\n",
        "        path = q.popleft()\n",
        "        last = path[len(path) - 1]\n",
        " \n",
        "        # If last vertex is the desired destination\n",
        "        # then print the path\n",
        "        if (last == dst and gc<3):\n",
        "            printpath(path)\n",
        "            gc+=1\n",
        "            if(gc==3):\n",
        "              return\n",
        " \n",
        "        #Add neighbours at same level\n",
        "        for i in range(len(g[last])):\n",
        "            if (isNotVisited(g[last][i], path)):\n",
        "                newpath = path.copy()\n",
        "                newpath.append(g[last][i])\n",
        "                q.append(newpath)"
      ],
      "metadata": {
        "id": "xBYFQ_q5LOJV"
      },
      "execution_count": 9,
      "outputs": []
    },
    {
      "cell_type": "code",
      "source": [
        "findpaths(adjacency_list, name_to_id['L. Messi'], name_to_id['Cristiano Ronaldo'], 1000)"
      ],
      "metadata": {
        "colab": {
          "base_uri": "https://localhost:8080/"
        },
        "id": "7bDFtLEBLQq1",
        "outputId": "f5594a06-dbb4-402d-a74d-4b3623095520"
      },
      "execution_count": 10,
      "outputs": [
        {
          "output_type": "stream",
          "name": "stdout",
          "text": [
            "L. Messi ---- {'Argentina'} ---- P. Dybala ---- {'Juventus'} ---- Cristiano Ronaldo\n",
            "\n",
            "L. Messi ---- {'FC Barcelona'} ---- Nélson Semedo ---- {'Portugal'} ---- Cristiano Ronaldo\n",
            "\n",
            "L. Messi ---- {'FC Barcelona'} ---- Trincão ---- {'Portugal'} ---- Cristiano Ronaldo\n",
            "\n"
          ]
        }
      ]
    }
  ]
}